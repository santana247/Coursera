{
 "cells": [
  {
   "cell_type": "markdown",
   "id": "cad4a20d-f048-4584-aa95-c9e66fb2860d",
   "metadata": {},
   "source": [
    "# My Jupyter Notebook on IBM Watson Studio"
   ]
  },
  {
   "cell_type": "markdown",
   "id": "3d33afc8-cc15-417a-884a-ff679597fe5e",
   "metadata": {},
   "source": [
    "**Preceela Chanu Irengbam** <br>\n",
    "I want to be a data scientist"
   ]
  },
  {
   "cell_type": "markdown",
   "id": "156cb22f-e997-4f72-9223-d5d4f96c574b",
   "metadata": {},
   "source": [
    "*I want to study data science because it is interesting and I love various data and its forms*"
   ]
  },
  {
   "cell_type": "markdown",
   "id": "a6714d05-518f-432d-86ad-8a0dde63f6a9",
   "metadata": {},
   "source": [
    "### The following code prints the Pascal Triangle"
   ]
  },
  {
   "cell_type": "code",
   "execution_count": 1,
   "id": "40440f80-d2da-4e8e-9e1d-44c2d21c9433",
   "metadata": {},
   "outputs": [
    {
     "name": "stdout",
     "output_type": "stream",
     "text": [
      "      1 \n",
      "     1 1 \n",
      "    1 2 1 \n",
      "   1 3 3 1 \n",
      "  1 4 6 4 1 \n"
     ]
    }
   ],
   "source": [
    "# Print Pascal's Triangle in Python\n",
    "from math import factorial\n",
    "\n",
    "# input n\n",
    "n = 5\n",
    "for i in range(n):\n",
    "\tfor j in range(n-i+1):\n",
    "\n",
    "\t\t# for left spacing\n",
    "\t\tprint(end=\" \")\n",
    "\n",
    "\tfor j in range(i+1):\n",
    "\n",
    "\t\t# nCr = n!/((n-r)!*r!)\n",
    "\t\tprint(factorial(i)//(factorial(j)*factorial(i-j)), end=\" \")\n",
    "\n",
    "\t# for new line\n",
    "\tprint()\n"
   ]
  },
  {
   "cell_type": "markdown",
   "id": "abad059c-bf08-4021-bcbb-3f9c51c0e4a4",
   "metadata": {},
   "source": [
    "***\n",
    "- one\n",
    "- two\n",
    "- three\n",
    "***\n",
    "<a href=\"https://www.coursera.org/?skipBrowseRedirect=true\">Coursera</a>"
   ]
  }
 ],
 "metadata": {
  "kernelspec": {
   "display_name": "Python",
   "language": "python",
   "name": "conda-env-python-py"
  },
  "language_info": {
   "codemirror_mode": {
    "name": "ipython",
    "version": 3
   },
   "file_extension": ".py",
   "mimetype": "text/x-python",
   "name": "python",
   "nbconvert_exporter": "python",
   "pygments_lexer": "ipython3",
   "version": "3.7.12"
  },
  "toc-showcode": true
 },
 "nbformat": 4,
 "nbformat_minor": 5
}
